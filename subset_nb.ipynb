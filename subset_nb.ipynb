{
 "cells": [
  {
   "cell_type": "code",
   "execution_count": 2,
   "metadata": {
    "collapsed": false,
    "deletable": true,
    "editable": true
   },
   "outputs": [],
   "source": [
    "import iris\n",
    "import os\n",
    "\n",
    "def subset_nc(filename, year): # change subset = cubes[1] for 2015 onwards\n",
    "    cubes = iris.load(filename)\n",
    "    subset = cubes[0] # change to index 1 for 2015, 16 and 17\n",
    "    print(cubes)\n",
    "    wind_subset = subset.extract(\n",
    "            iris.Constraint(latitude=lambda cell: 20 <= cell < 91, longitude=lambda cell: 180 <= cell < 341, \\\n",
    "                            Level=lambda cell: 300 <= cell < 301))\n",
    "    if not os.path.isdir('working_data'): \n",
    "        os.mkdir('working_data')\n",
    "    iris.io.save(wind_subset,(os.path.join('working_data','vwnd.IGS.{0}.nc'.format(year))))\n",
    "    print(wind_subset.shape)"
   ]
  },
  {
   "cell_type": "code",
   "execution_count": 17,
   "metadata": {
    "collapsed": false,
    "deletable": true,
    "editable": true
   },
   "outputs": [
    {
     "name": "stdout",
     "output_type": "stream",
     "text": [
      "skipped\n",
      "1997\n",
      "0: mean Daily V wind / (m/s)           (time: 365; Level: 17; latitude: 73; longitude: 144)\n",
      "(365, 29, 65)\n",
      "File Removed!\n",
      "1998\n",
      "0: mean Daily V wind / (m/s)           (time: 365; Level: 17; latitude: 73; longitude: 144)\n",
      "(365, 29, 65)\n",
      "File Removed!\n",
      "1999\n",
      "0: mean Daily V wind / (m/s)           (time: 365; Level: 17; latitude: 73; longitude: 144)\n",
      "(365, 29, 65)\n",
      "File Removed!\n",
      "2000\n",
      "0: mean Daily V wind / (m/s)           (time: 366; Level: 17; latitude: 73; longitude: 144)\n",
      "(366, 29, 65)\n",
      "File Removed!\n",
      "2001\n",
      "0: mean Daily V wind / (m/s)           (time: 365; Level: 17; latitude: 73; longitude: 144)\n",
      "(365, 29, 65)\n",
      "File Removed!\n"
     ]
    }
   ],
   "source": [
    "for a in os.listdir('data'):\n",
    "    if a.startswith('.'):\n",
    "        print('skipped')\n",
    "        continue\n",
    "    else:\n",
    "        print(a[5:9])\n",
    "        b = str(a[5:9])\n",
    "        subset_nc((os.path.join('data',a)),b) \n",
    "        os.remove(os.path.join('data', a))\n",
    "        print('File Removed!')"
   ]
  },
  {
   "cell_type": "code",
   "execution_count": 3,
   "metadata": {
    "collapsed": true,
    "deletable": true,
    "editable": true
   },
   "outputs": [
    {
     "name": "stderr",
     "output_type": "stream",
     "text": [
      "/Applications/anaconda/envs/test-netcdf4/lib/python2.7/site-packages/iris/fileformats/cf.py:1143: IrisDeprecation: NetCDF default loading behaviour currently does not expose variables which define reference surfaces for dimensionless vertical coordinates as independent Cubes. This behaviour is deprecated in favour of automatic promotion to Cubes. To switch to the new behaviour, set iris.FUTURE.netcdf_promote to True.\n",
      "  warn_deprecated(msg)\n",
      "/Applications/anaconda/envs/test-netcdf4/lib/python2.7/site-packages/iris/fileformats/netcdf.py:2281: IrisDeprecation: NetCDF default saving behaviour currently assigns the outermost dimensions to unlimited. This behaviour is to be deprecated, in favour of no automatic assignment. To switch to the new behaviour, set iris.FUTURE.netcdf_no_unlimited to True.\n",
      "  warn_deprecated(msg)\n"
     ]
    },
    {
     "name": "stdout",
     "output_type": "stream",
     "text": [
      "0: mean Daily U-wind / (m/s)           (time: 14815; Level: 1; latitude: 29; longitude: 65)\n"
     ]
    },
    {
     "ename": "NameError",
     "evalue": "name 'wind_subset' is not defined",
     "output_type": "error",
     "traceback": [
      "\u001b[0;31m---------------------------------------------------------------------------\u001b[0m",
      "\u001b[0;31mNameError\u001b[0m                                 Traceback (most recent call last)",
      "\u001b[0;32m<ipython-input-3-0080b9a4da33>\u001b[0m in \u001b[0;36m<module>\u001b[0;34m()\u001b[0m\n\u001b[1;32m      9\u001b[0m \u001b[0;31m#         os.mkdir('working_data')\u001b[0m\u001b[0;34m\u001b[0m\u001b[0;34m\u001b[0m\u001b[0m\n\u001b[1;32m     10\u001b[0m \u001b[0miris\u001b[0m\u001b[0;34m.\u001b[0m\u001b[0mio\u001b[0m\u001b[0;34m.\u001b[0m\u001b[0msave\u001b[0m\u001b[0;34m(\u001b[0m\u001b[0mvwind_save\u001b[0m\u001b[0;34m,\u001b[0m\u001b[0;34m(\u001b[0m\u001b[0mos\u001b[0m\u001b[0;34m.\u001b[0m\u001b[0mpath\u001b[0m\u001b[0;34m.\u001b[0m\u001b[0mjoin\u001b[0m\u001b[0;34m(\u001b[0m\u001b[0;34m'working_data'\u001b[0m\u001b[0;34m,\u001b[0m\u001b[0;34m'uwnd.IGS.77to17.nc'\u001b[0m\u001b[0;34m)\u001b[0m\u001b[0;34m)\u001b[0m\u001b[0;34m)\u001b[0m\u001b[0;34m\u001b[0m\u001b[0m\n\u001b[0;32m---> 11\u001b[0;31m \u001b[0;32mprint\u001b[0m\u001b[0;34m(\u001b[0m\u001b[0mwind_subset\u001b[0m\u001b[0;34m.\u001b[0m\u001b[0mshape\u001b[0m\u001b[0;34m)\u001b[0m\u001b[0;34m\u001b[0m\u001b[0m\n\u001b[0m",
      "\u001b[0;31mNameError\u001b[0m: name 'wind_subset' is not defined"
     ]
    }
   ],
   "source": [
    "# filename = os.path.join('working_data','uwind.IGS.77to17.nc')\n",
    "# cubes = iris.load(filename)\n",
    "# print(cubes)\n",
    "# vwind = cubes[0]\n",
    "\n",
    "# vwind_save = vwind.extract(\n",
    "#             iris.Constraint(Level=lambda cell: 300 <= cell < 301))\n",
    "# #     if not os.path.isdir('working_data'): \n",
    "# #         os.mkdir('working_data')\n",
    "# iris.io.save(vwind_save,(os.path.join('working_data','uwnd.IGS.77to17.nc')))\n",
    "# print(vwind_save.shape)"
   ]
  },
  {
   "cell_type": "code",
   "execution_count": 34,
   "metadata": {
    "collapsed": false
   },
   "outputs": [],
   "source": [
    "# import iris\n",
    "# filename = 'working_data/uwind.IGS.48to17.nc'\n",
    "# cubes = iris.load(filename)\n",
    "# uwind = cubes[0]\n",
    "\n",
    "# wind_subset = uwind.extract(\n",
    "#             iris.Constraint(Level=lambda cell: 300 <= cell < 301))\n",
    "\n",
    "# iris.io.save(wind_subset,'working_data/uwnd.IGS.48to17.nc') "
   ]
  },
  {
   "cell_type": "code",
   "execution_count": 36,
   "metadata": {
    "collapsed": false
   },
   "outputs": [
    {
     "data": {
      "text/plain": [
       "<iris 'Cube' of mean Daily U-wind / (m/s) (time: 25204; latitude: 29; longitude: 65)>"
      ]
     },
     "execution_count": 36,
     "metadata": {},
     "output_type": "execute_result"
    }
   ],
   "source": [
    "#25204, 29, 65"
   ]
  }
 ],
 "metadata": {
  "kernelspec": {
   "display_name": "Python 2",
   "language": "python",
   "name": "python2"
  },
  "language_info": {
   "codemirror_mode": {
    "name": "ipython",
    "version": 2
   },
   "file_extension": ".py",
   "mimetype": "text/x-python",
   "name": "python",
   "nbconvert_exporter": "python",
   "pygments_lexer": "ipython2",
   "version": "2.7.13"
  }
 },
 "nbformat": 4,
 "nbformat_minor": 2
}
